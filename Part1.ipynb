{
 "cells": [
  {
   "cell_type": "markdown",
   "metadata": {},
   "source": [
    "# Part 1\n",
    "\n",
    "- Import du jeu de données : World Income Distribution\n",
    "- Import du jeu de données : Population mondiale depuis la FAO\n",
    "- Table de correspondance \"Nom de pays entier\" => \"Nom de pays ISO 3\"\n",
    "- Merge et nettoyage des données\n",
    "- Création d'un dataframe résumant les données\n",
    "- Calcul de l'indice de Gini pour chaque pays"
   ]
  },
  {
   "cell_type": "code",
   "execution_count": 1,
   "metadata": {},
   "outputs": [],
   "source": [
    "import pickle\n",
    "\n",
    "import pandas as pd\n",
    "import numpy as np\n",
    "\n",
    "import matplotlib.pyplot as plt\n",
    "\n",
    "from descstats import Univa, MyPlot"
   ]
  },
  {
   "cell_type": "markdown",
   "metadata": {},
   "source": [
    "Repository de mon module DescStats : https://github.com/nicodesh/DescStats"
   ]
  },
  {
   "cell_type": "markdown",
   "metadata": {},
   "source": [
    "## Income by country\n",
    "Source : World Income Distribution (via: https://openclassrooms.com/fr/projects/148/assignment)"
   ]
  },
  {
   "cell_type": "code",
   "execution_count": 2,
   "metadata": {},
   "outputs": [
    {
     "data": {
      "text/plain": [
       "(11599, 6)"
      ]
     },
     "metadata": {},
     "output_type": "display_data"
    },
    {
     "data": {
      "text/html": [
       "<div>\n",
       "<style scoped>\n",
       "    .dataframe tbody tr th:only-of-type {\n",
       "        vertical-align: middle;\n",
       "    }\n",
       "\n",
       "    .dataframe tbody tr th {\n",
       "        vertical-align: top;\n",
       "    }\n",
       "\n",
       "    .dataframe thead th {\n",
       "        text-align: right;\n",
       "    }\n",
       "</style>\n",
       "<table border=\"1\" class=\"dataframe\">\n",
       "  <thead>\n",
       "    <tr style=\"text-align: right;\">\n",
       "      <th></th>\n",
       "      <th>country</th>\n",
       "      <th>year_survey</th>\n",
       "      <th>quantile</th>\n",
       "      <th>nb_quantiles</th>\n",
       "      <th>income</th>\n",
       "      <th>gdpppp</th>\n",
       "    </tr>\n",
       "  </thead>\n",
       "  <tbody>\n",
       "    <tr>\n",
       "      <th>0</th>\n",
       "      <td>ALB</td>\n",
       "      <td>2008</td>\n",
       "      <td>1</td>\n",
       "      <td>100</td>\n",
       "      <td>728.89795</td>\n",
       "      <td>7297.0</td>\n",
       "    </tr>\n",
       "    <tr>\n",
       "      <th>1</th>\n",
       "      <td>ALB</td>\n",
       "      <td>2008</td>\n",
       "      <td>2</td>\n",
       "      <td>100</td>\n",
       "      <td>916.66235</td>\n",
       "      <td>7297.0</td>\n",
       "    </tr>\n",
       "    <tr>\n",
       "      <th>2</th>\n",
       "      <td>ALB</td>\n",
       "      <td>2008</td>\n",
       "      <td>3</td>\n",
       "      <td>100</td>\n",
       "      <td>1010.91600</td>\n",
       "      <td>7297.0</td>\n",
       "    </tr>\n",
       "    <tr>\n",
       "      <th>3</th>\n",
       "      <td>ALB</td>\n",
       "      <td>2008</td>\n",
       "      <td>4</td>\n",
       "      <td>100</td>\n",
       "      <td>1086.90780</td>\n",
       "      <td>7297.0</td>\n",
       "    </tr>\n",
       "    <tr>\n",
       "      <th>4</th>\n",
       "      <td>ALB</td>\n",
       "      <td>2008</td>\n",
       "      <td>5</td>\n",
       "      <td>100</td>\n",
       "      <td>1132.69970</td>\n",
       "      <td>7297.0</td>\n",
       "    </tr>\n",
       "    <tr>\n",
       "      <th>5</th>\n",
       "      <td>ALB</td>\n",
       "      <td>2008</td>\n",
       "      <td>6</td>\n",
       "      <td>100</td>\n",
       "      <td>1171.14120</td>\n",
       "      <td>7297.0</td>\n",
       "    </tr>\n",
       "    <tr>\n",
       "      <th>6</th>\n",
       "      <td>ALB</td>\n",
       "      <td>2008</td>\n",
       "      <td>7</td>\n",
       "      <td>100</td>\n",
       "      <td>1201.13240</td>\n",
       "      <td>7297.0</td>\n",
       "    </tr>\n",
       "    <tr>\n",
       "      <th>7</th>\n",
       "      <td>ALB</td>\n",
       "      <td>2008</td>\n",
       "      <td>8</td>\n",
       "      <td>100</td>\n",
       "      <td>1240.89760</td>\n",
       "      <td>7297.0</td>\n",
       "    </tr>\n",
       "    <tr>\n",
       "      <th>8</th>\n",
       "      <td>ALB</td>\n",
       "      <td>2008</td>\n",
       "      <td>9</td>\n",
       "      <td>100</td>\n",
       "      <td>1285.69140</td>\n",
       "      <td>7297.0</td>\n",
       "    </tr>\n",
       "    <tr>\n",
       "      <th>9</th>\n",
       "      <td>ALB</td>\n",
       "      <td>2008</td>\n",
       "      <td>10</td>\n",
       "      <td>100</td>\n",
       "      <td>1325.25330</td>\n",
       "      <td>7297.0</td>\n",
       "    </tr>\n",
       "  </tbody>\n",
       "</table>\n",
       "</div>"
      ],
      "text/plain": [
       "  country  year_survey  quantile  nb_quantiles      income  gdpppp\n",
       "0     ALB         2008         1           100   728.89795  7297.0\n",
       "1     ALB         2008         2           100   916.66235  7297.0\n",
       "2     ALB         2008         3           100  1010.91600  7297.0\n",
       "3     ALB         2008         4           100  1086.90780  7297.0\n",
       "4     ALB         2008         5           100  1132.69970  7297.0\n",
       "5     ALB         2008         6           100  1171.14120  7297.0\n",
       "6     ALB         2008         7           100  1201.13240  7297.0\n",
       "7     ALB         2008         8           100  1240.89760  7297.0\n",
       "8     ALB         2008         9           100  1285.69140  7297.0\n",
       "9     ALB         2008        10           100  1325.25330  7297.0"
      ]
     },
     "metadata": {},
     "output_type": "display_data"
    }
   ],
   "source": [
    "the_csv = pd.read_csv(\"data/data.csv\", decimal=\",\")\n",
    "display(the_csv.shape)\n",
    "display(the_csv.head(10))"
   ]
  },
  {
   "cell_type": "code",
   "execution_count": 3,
   "metadata": {},
   "outputs": [
    {
     "data": {
      "text/html": [
       "<div>\n",
       "<style scoped>\n",
       "    .dataframe tbody tr th:only-of-type {\n",
       "        vertical-align: middle;\n",
       "    }\n",
       "\n",
       "    .dataframe tbody tr th {\n",
       "        vertical-align: top;\n",
       "    }\n",
       "\n",
       "    .dataframe thead th {\n",
       "        text-align: right;\n",
       "    }\n",
       "</style>\n",
       "<table border=\"1\" class=\"dataframe\">\n",
       "  <thead>\n",
       "    <tr style=\"text-align: right;\">\n",
       "      <th></th>\n",
       "      <th>country</th>\n",
       "      <th>year</th>\n",
       "      <th>quantile</th>\n",
       "      <th>nb_quantiles</th>\n",
       "      <th>income</th>\n",
       "      <th>gdpppp</th>\n",
       "    </tr>\n",
       "  </thead>\n",
       "  <tbody>\n",
       "    <tr>\n",
       "      <th>0</th>\n",
       "      <td>ALB</td>\n",
       "      <td>2008</td>\n",
       "      <td>1</td>\n",
       "      <td>100</td>\n",
       "      <td>728.89795</td>\n",
       "      <td>7297.0</td>\n",
       "    </tr>\n",
       "  </tbody>\n",
       "</table>\n",
       "</div>"
      ],
      "text/plain": [
       "  country  year  quantile  nb_quantiles     income  gdpppp\n",
       "0     ALB  2008         1           100  728.89795  7297.0"
      ]
     },
     "metadata": {},
     "output_type": "display_data"
    }
   ],
   "source": [
    "main_df = the_csv.copy()\n",
    "columns = {'year_survey': 'year'}\n",
    "main_df.rename(columns=columns, inplace=True)\n",
    "display(main_df.head(1))"
   ]
  },
  {
   "cell_type": "code",
   "execution_count": 4,
   "metadata": {},
   "outputs": [
    {
     "data": {
      "text/plain": [
       "array(['ALB', 'ARG', 'ARM', 'AUT', 'AZE', 'BEL', 'BFA', 'BGD', 'BGR',\n",
       "       'BIH', 'BLR', 'BOL', 'BRA', 'BTN', 'CAF', 'CAN', 'CHL', 'CHN',\n",
       "       'CIV', 'CMR', 'COL', 'CRI', 'CYP', 'CZE', 'DEU', 'DNK', 'DOM',\n",
       "       'ECU', 'EGY', 'ESP', 'EST', 'FIN', 'FJI', 'FRA', 'GBR', 'GEO',\n",
       "       'GHA', 'GIN', 'GRC', 'GTM', 'HND', 'HRV', 'HUN', 'IDN', 'IND',\n",
       "       'IRL', 'IRN', 'IRQ', 'ISL', 'ISR', 'ITA', 'JOR', 'JPN', 'KAZ',\n",
       "       'KEN', 'KGZ', 'KHM', 'KOR', 'XKX', 'LAO', 'LBR', 'LKA', 'LTU',\n",
       "       'LUX', 'LVA', 'MAR', 'MDA', 'MDG', 'MEX', 'MKD', 'MLI', 'MNE',\n",
       "       'MNG', 'MOZ', 'MRT', 'MWI', 'MYS', 'NER', 'NGA', 'NIC', 'NLD',\n",
       "       'NOR', 'NPL', 'PAK', 'PAN', 'PER', 'PHL', 'POL', 'PRT', 'PRY',\n",
       "       'ROU', 'RUS', 'SDN', 'SLV', 'SRB', 'SVK', 'SVN', 'SWE', 'SWZ',\n",
       "       'SYR', 'THA', 'TJK', 'TLS', 'TUR', 'TWN', 'TZA', 'UGA', 'UKR',\n",
       "       'URY', 'USA', 'VEN', 'VNM', 'PSE', 'YEM', 'ZAF', 'COD'],\n",
       "      dtype=object)"
      ]
     },
     "metadata": {},
     "output_type": "display_data"
    },
    {
     "data": {
      "text/plain": [
       "array([2008, 2009, 2010, 2007, 2006, 2011, 2004])"
      ]
     },
     "metadata": {},
     "output_type": "display_data"
    }
   ],
   "source": [
    "display(main_df.country.unique())\n",
    "display(main_df.year.unique())"
   ]
  },
  {
   "cell_type": "markdown",
   "metadata": {},
   "source": [
    "## World Population\n",
    "\n",
    "Source : FAO http://www.fao.org/faostat/fr/#data/OA"
   ]
  },
  {
   "cell_type": "code",
   "execution_count": 5,
   "metadata": {},
   "outputs": [
    {
     "data": {
      "text/plain": [
       "(1845, 15)"
      ]
     },
     "metadata": {},
     "output_type": "display_data"
    },
    {
     "data": {
      "text/html": [
       "<div>\n",
       "<style scoped>\n",
       "    .dataframe tbody tr th:only-of-type {\n",
       "        vertical-align: middle;\n",
       "    }\n",
       "\n",
       "    .dataframe tbody tr th {\n",
       "        vertical-align: top;\n",
       "    }\n",
       "\n",
       "    .dataframe thead th {\n",
       "        text-align: right;\n",
       "    }\n",
       "</style>\n",
       "<table border=\"1\" class=\"dataframe\">\n",
       "  <thead>\n",
       "    <tr style=\"text-align: right;\">\n",
       "      <th></th>\n",
       "      <th>Code Domaine</th>\n",
       "      <th>Domaine</th>\n",
       "      <th>Code zone</th>\n",
       "      <th>Zone</th>\n",
       "      <th>Code Élément</th>\n",
       "      <th>Élément</th>\n",
       "      <th>Code Produit</th>\n",
       "      <th>Produit</th>\n",
       "      <th>Code année</th>\n",
       "      <th>Année</th>\n",
       "      <th>Unité</th>\n",
       "      <th>Valeur</th>\n",
       "      <th>Symbole</th>\n",
       "      <th>Description du Symbole</th>\n",
       "      <th>Note</th>\n",
       "    </tr>\n",
       "  </thead>\n",
       "  <tbody>\n",
       "    <tr>\n",
       "      <th>0</th>\n",
       "      <td>OA</td>\n",
       "      <td>Séries temporelles annuelles</td>\n",
       "      <td>2</td>\n",
       "      <td>Afghanistan</td>\n",
       "      <td>511</td>\n",
       "      <td>Population totale</td>\n",
       "      <td>3010</td>\n",
       "      <td>Population-Estimations</td>\n",
       "      <td>2004</td>\n",
       "      <td>2004</td>\n",
       "      <td>1000 personnes</td>\n",
       "      <td>24118.979</td>\n",
       "      <td>X</td>\n",
       "      <td>Sources internationales sûres</td>\n",
       "      <td>UNDESA, Population Division – World Population...</td>\n",
       "    </tr>\n",
       "  </tbody>\n",
       "</table>\n",
       "</div>"
      ],
      "text/plain": [
       "  Code Domaine                       Domaine  Code zone         Zone  \\\n",
       "0           OA  Séries temporelles annuelles          2  Afghanistan   \n",
       "\n",
       "   Code Élément            Élément  Code Produit                 Produit  \\\n",
       "0           511  Population totale          3010  Population-Estimations   \n",
       "\n",
       "   Code année  Année           Unité     Valeur Symbole  \\\n",
       "0        2004   2004  1000 personnes  24118.979       X   \n",
       "\n",
       "          Description du Symbole  \\\n",
       "0  Sources internationales sûres   \n",
       "\n",
       "                                                Note  \n",
       "0  UNDESA, Population Division – World Population...  "
      ]
     },
     "metadata": {},
     "output_type": "display_data"
    }
   ],
   "source": [
    "pop_df = pd.read_csv(\"data/population.csv\")\n",
    "display(pop_df.shape)\n",
    "display(pop_df.head(1))"
   ]
  },
  {
   "cell_type": "code",
   "execution_count": 6,
   "metadata": {},
   "outputs": [
    {
     "data": {
      "text/plain": [
       "array(['1000 personnes'], dtype=object)"
      ]
     },
     "execution_count": 6,
     "metadata": {},
     "output_type": "execute_result"
    }
   ],
   "source": [
    "pop_df.Unité.unique()"
   ]
  },
  {
   "cell_type": "code",
   "execution_count": 7,
   "metadata": {},
   "outputs": [
    {
     "data": {
      "text/html": [
       "<div>\n",
       "<style scoped>\n",
       "    .dataframe tbody tr th:only-of-type {\n",
       "        vertical-align: middle;\n",
       "    }\n",
       "\n",
       "    .dataframe tbody tr th {\n",
       "        vertical-align: top;\n",
       "    }\n",
       "\n",
       "    .dataframe thead th {\n",
       "        text-align: right;\n",
       "    }\n",
       "</style>\n",
       "<table border=\"1\" class=\"dataframe\">\n",
       "  <thead>\n",
       "    <tr style=\"text-align: right;\">\n",
       "      <th></th>\n",
       "      <th>country_full</th>\n",
       "      <th>year</th>\n",
       "      <th>population</th>\n",
       "    </tr>\n",
       "  </thead>\n",
       "  <tbody>\n",
       "    <tr>\n",
       "      <th>0</th>\n",
       "      <td>Afghanistan</td>\n",
       "      <td>2004</td>\n",
       "      <td>24118979</td>\n",
       "    </tr>\n",
       "    <tr>\n",
       "      <th>1</th>\n",
       "      <td>Afghanistan</td>\n",
       "      <td>2005</td>\n",
       "      <td>25070798</td>\n",
       "    </tr>\n",
       "    <tr>\n",
       "      <th>2</th>\n",
       "      <td>Afghanistan</td>\n",
       "      <td>2006</td>\n",
       "      <td>25893450</td>\n",
       "    </tr>\n",
       "    <tr>\n",
       "      <th>3</th>\n",
       "      <td>Afghanistan</td>\n",
       "      <td>2007</td>\n",
       "      <td>26616792</td>\n",
       "    </tr>\n",
       "    <tr>\n",
       "      <th>4</th>\n",
       "      <td>Afghanistan</td>\n",
       "      <td>2008</td>\n",
       "      <td>27294031</td>\n",
       "    </tr>\n",
       "    <tr>\n",
       "      <th>5</th>\n",
       "      <td>Afghanistan</td>\n",
       "      <td>2009</td>\n",
       "      <td>28004331</td>\n",
       "    </tr>\n",
       "    <tr>\n",
       "      <th>6</th>\n",
       "      <td>Afghanistan</td>\n",
       "      <td>2010</td>\n",
       "      <td>28803167</td>\n",
       "    </tr>\n",
       "    <tr>\n",
       "      <th>7</th>\n",
       "      <td>Afghanistan</td>\n",
       "      <td>2011</td>\n",
       "      <td>29708599</td>\n",
       "    </tr>\n",
       "    <tr>\n",
       "      <th>8</th>\n",
       "      <td>Afrique du Sud</td>\n",
       "      <td>2004</td>\n",
       "      <td>48247395</td>\n",
       "    </tr>\n",
       "    <tr>\n",
       "      <th>9</th>\n",
       "      <td>Afrique du Sud</td>\n",
       "      <td>2005</td>\n",
       "      <td>48820585</td>\n",
       "    </tr>\n",
       "  </tbody>\n",
       "</table>\n",
       "</div>"
      ],
      "text/plain": [
       "     country_full  year  population\n",
       "0     Afghanistan  2004    24118979\n",
       "1     Afghanistan  2005    25070798\n",
       "2     Afghanistan  2006    25893450\n",
       "3     Afghanistan  2007    26616792\n",
       "4     Afghanistan  2008    27294031\n",
       "5     Afghanistan  2009    28004331\n",
       "6     Afghanistan  2010    28803167\n",
       "7     Afghanistan  2011    29708599\n",
       "8  Afrique du Sud  2004    48247395\n",
       "9  Afrique du Sud  2005    48820585"
      ]
     },
     "metadata": {},
     "output_type": "display_data"
    }
   ],
   "source": [
    "pop_df = pop_df[['Zone', 'Année', 'Valeur']].copy()\n",
    "\n",
    "columns = {\n",
    "    'Zone': 'country_full',\n",
    "    'Année': 'year',\n",
    "    'Valeur': 'population'\n",
    "}\n",
    "pop_df.rename(columns=columns, inplace=True)\n",
    "pop_df.population = (pop_df.population * 1000).astype(int)\n",
    "display(pop_df.head(10))"
   ]
  },
  {
   "cell_type": "markdown",
   "metadata": {},
   "source": [
    "## Country Name / ISO 3\n",
    "\n",
    "Source : https://sql.sh/514-liste-pays-csv-xml"
   ]
  },
  {
   "cell_type": "code",
   "execution_count": 8,
   "metadata": {},
   "outputs": [
    {
     "data": {
      "text/html": [
       "<div>\n",
       "<style scoped>\n",
       "    .dataframe tbody tr th:only-of-type {\n",
       "        vertical-align: middle;\n",
       "    }\n",
       "\n",
       "    .dataframe tbody tr th {\n",
       "        vertical-align: top;\n",
       "    }\n",
       "\n",
       "    .dataframe thead th {\n",
       "        text-align: right;\n",
       "    }\n",
       "</style>\n",
       "<table border=\"1\" class=\"dataframe\">\n",
       "  <thead>\n",
       "    <tr style=\"text-align: right;\">\n",
       "      <th></th>\n",
       "      <th>0</th>\n",
       "      <th>1</th>\n",
       "      <th>2</th>\n",
       "      <th>3</th>\n",
       "      <th>4</th>\n",
       "      <th>5</th>\n",
       "    </tr>\n",
       "  </thead>\n",
       "  <tbody>\n",
       "    <tr>\n",
       "      <th>0</th>\n",
       "      <td>1</td>\n",
       "      <td>4</td>\n",
       "      <td>AF</td>\n",
       "      <td>AFG</td>\n",
       "      <td>Afghanistan</td>\n",
       "      <td>Afghanistan</td>\n",
       "    </tr>\n",
       "    <tr>\n",
       "      <th>1</th>\n",
       "      <td>2</td>\n",
       "      <td>8</td>\n",
       "      <td>AL</td>\n",
       "      <td>ALB</td>\n",
       "      <td>Albanie</td>\n",
       "      <td>Albania</td>\n",
       "    </tr>\n",
       "    <tr>\n",
       "      <th>2</th>\n",
       "      <td>3</td>\n",
       "      <td>10</td>\n",
       "      <td>AQ</td>\n",
       "      <td>ATA</td>\n",
       "      <td>Antarctique</td>\n",
       "      <td>Antarctica</td>\n",
       "    </tr>\n",
       "    <tr>\n",
       "      <th>3</th>\n",
       "      <td>4</td>\n",
       "      <td>12</td>\n",
       "      <td>DZ</td>\n",
       "      <td>DZA</td>\n",
       "      <td>Algérie</td>\n",
       "      <td>Algeria</td>\n",
       "    </tr>\n",
       "    <tr>\n",
       "      <th>4</th>\n",
       "      <td>5</td>\n",
       "      <td>16</td>\n",
       "      <td>AS</td>\n",
       "      <td>ASM</td>\n",
       "      <td>Samoa Américaines</td>\n",
       "      <td>American Samoa</td>\n",
       "    </tr>\n",
       "  </tbody>\n",
       "</table>\n",
       "</div>"
      ],
      "text/plain": [
       "   0   1   2    3                  4               5\n",
       "0  1   4  AF  AFG        Afghanistan     Afghanistan\n",
       "1  2   8  AL  ALB            Albanie         Albania\n",
       "2  3  10  AQ  ATA        Antarctique      Antarctica\n",
       "3  4  12  DZ  DZA            Algérie         Algeria\n",
       "4  5  16  AS  ASM  Samoa Américaines  American Samoa"
      ]
     },
     "metadata": {},
     "output_type": "display_data"
    }
   ],
   "source": [
    "iso_df = pd.read_csv(\"data/country-iso.csv\", header=None)\n",
    "display(iso_df.head())"
   ]
  },
  {
   "cell_type": "code",
   "execution_count": 9,
   "metadata": {},
   "outputs": [
    {
     "data": {
      "text/html": [
       "<div>\n",
       "<style scoped>\n",
       "    .dataframe tbody tr th:only-of-type {\n",
       "        vertical-align: middle;\n",
       "    }\n",
       "\n",
       "    .dataframe tbody tr th {\n",
       "        vertical-align: top;\n",
       "    }\n",
       "\n",
       "    .dataframe thead th {\n",
       "        text-align: right;\n",
       "    }\n",
       "</style>\n",
       "<table border=\"1\" class=\"dataframe\">\n",
       "  <thead>\n",
       "    <tr style=\"text-align: right;\">\n",
       "      <th></th>\n",
       "      <th>country_full</th>\n",
       "      <th>country</th>\n",
       "    </tr>\n",
       "  </thead>\n",
       "  <tbody>\n",
       "    <tr>\n",
       "      <th>0</th>\n",
       "      <td>Afghanistan</td>\n",
       "      <td>AFG</td>\n",
       "    </tr>\n",
       "    <tr>\n",
       "      <th>1</th>\n",
       "      <td>Albanie</td>\n",
       "      <td>ALB</td>\n",
       "    </tr>\n",
       "    <tr>\n",
       "      <th>2</th>\n",
       "      <td>Antarctique</td>\n",
       "      <td>ATA</td>\n",
       "    </tr>\n",
       "    <tr>\n",
       "      <th>3</th>\n",
       "      <td>Algérie</td>\n",
       "      <td>DZA</td>\n",
       "    </tr>\n",
       "    <tr>\n",
       "      <th>4</th>\n",
       "      <td>Samoa Américaines</td>\n",
       "      <td>ASM</td>\n",
       "    </tr>\n",
       "  </tbody>\n",
       "</table>\n",
       "</div>"
      ],
      "text/plain": [
       "        country_full country\n",
       "0        Afghanistan     AFG\n",
       "1            Albanie     ALB\n",
       "2        Antarctique     ATA\n",
       "3            Algérie     DZA\n",
       "4  Samoa Américaines     ASM"
      ]
     },
     "execution_count": 9,
     "metadata": {},
     "output_type": "execute_result"
    }
   ],
   "source": [
    "def rename_country(x):\n",
    "    \n",
    "    if (x == 'République Démocratique du Congo'):\n",
    "        return 'République démocratique du Congo'\n",
    "    \n",
    "    elif (x == 'Bolivie'):\n",
    "        return 'Bolivie (État plurinational de)'\n",
    "    \n",
    "    elif (x == 'République Centrafricaine'):\n",
    "        return 'République centrafricaine'\n",
    "    \n",
    "    elif (x == 'République Tchèque'):\n",
    "        return 'Tchéquie (la)'\n",
    "    \n",
    "    elif (x == 'République Dominicaine'):\n",
    "        return 'République dominicaine'\n",
    "    \n",
    "    elif (x == 'République Islamique d\\'Iran'):\n",
    "        return 'Iran (République islamique d\\')'\n",
    "    \n",
    "    elif (x == 'République Démocratique Populaire Lao'):\n",
    "        return 'République démocratique populaire lao'\n",
    "    \n",
    "    elif (x == 'L\\'ex-République Yougoslave de Macédoine'):\n",
    "        return 'Macédoine du Nord'\n",
    "    \n",
    "    elif (x == 'Soudan'):\n",
    "        return 'Soudan (ex)'\n",
    "    \n",
    "    elif (x == 'Swaziland'):\n",
    "        return 'Eswatini'\n",
    "    \n",
    "    elif (x == 'Taïwan'):\n",
    "        return 'Chine, Taiwan Province de'\n",
    "    \n",
    "    elif (x == 'États-Unis'):\n",
    "        return 'États-Unis d\\'Amérique'\n",
    "    \n",
    "    elif (x == 'Venezuela'):\n",
    "        return 'Venezuela (République bolivarienne du)'\n",
    "    \n",
    "    elif (x == 'Territoire Palestinien Occupé'):\n",
    "        return 'Palestine'\n",
    "    \n",
    "    elif (x == 'République Arabe Syrienne'):\n",
    "        return 'République arabe syrienne'\n",
    "    \n",
    "    else:\n",
    "        return x\n",
    "    \n",
    "    \n",
    "iso_df = iso_df[[4,3]].copy()\n",
    "iso_df.rename(columns={4:'country_full',3:'country'}, inplace=True)\n",
    "iso_df.country_full = iso_df.country_full.apply(rename_country)\n",
    "iso_df.head()"
   ]
  },
  {
   "cell_type": "code",
   "execution_count": 10,
   "metadata": {},
   "outputs": [],
   "source": [
    "data = {\n",
    "    'country':['XKX', 'MNE', 'SRB'],\n",
    "    'country_full':['Kosovo', 'Monténégro', 'Serbie']\n",
    "}\n",
    "\n",
    "data = pd.DataFrame(data)\n",
    "\n",
    "iso_df = pd.concat([iso_df, data], sort=False).reset_index(drop=True)"
   ]
  },
  {
   "cell_type": "markdown",
   "metadata": {},
   "source": [
    "## Merge data"
   ]
  },
  {
   "cell_type": "code",
   "execution_count": 11,
   "metadata": {
    "scrolled": false
   },
   "outputs": [
    {
     "data": {
      "text/html": [
       "<div>\n",
       "<style scoped>\n",
       "    .dataframe tbody tr th:only-of-type {\n",
       "        vertical-align: middle;\n",
       "    }\n",
       "\n",
       "    .dataframe tbody tr th {\n",
       "        vertical-align: top;\n",
       "    }\n",
       "\n",
       "    .dataframe thead th {\n",
       "        text-align: right;\n",
       "    }\n",
       "</style>\n",
       "<table border=\"1\" class=\"dataframe\">\n",
       "  <thead>\n",
       "    <tr style=\"text-align: right;\">\n",
       "      <th></th>\n",
       "      <th>country</th>\n",
       "      <th>year</th>\n",
       "      <th>quantile</th>\n",
       "      <th>nb_quantiles</th>\n",
       "      <th>income</th>\n",
       "      <th>gdpppp</th>\n",
       "      <th>country_full</th>\n",
       "      <th>population</th>\n",
       "    </tr>\n",
       "  </thead>\n",
       "  <tbody>\n",
       "    <tr>\n",
       "      <th>0</th>\n",
       "      <td>ALB</td>\n",
       "      <td>2008</td>\n",
       "      <td>1</td>\n",
       "      <td>100</td>\n",
       "      <td>728.89795</td>\n",
       "      <td>7297.0</td>\n",
       "      <td>Albanie</td>\n",
       "      <td>2991651.0</td>\n",
       "    </tr>\n",
       "    <tr>\n",
       "      <th>1</th>\n",
       "      <td>ALB</td>\n",
       "      <td>2008</td>\n",
       "      <td>2</td>\n",
       "      <td>100</td>\n",
       "      <td>916.66235</td>\n",
       "      <td>7297.0</td>\n",
       "      <td>Albanie</td>\n",
       "      <td>2991651.0</td>\n",
       "    </tr>\n",
       "    <tr>\n",
       "      <th>2</th>\n",
       "      <td>ALB</td>\n",
       "      <td>2008</td>\n",
       "      <td>3</td>\n",
       "      <td>100</td>\n",
       "      <td>1010.91600</td>\n",
       "      <td>7297.0</td>\n",
       "      <td>Albanie</td>\n",
       "      <td>2991651.0</td>\n",
       "    </tr>\n",
       "    <tr>\n",
       "      <th>3</th>\n",
       "      <td>ALB</td>\n",
       "      <td>2008</td>\n",
       "      <td>4</td>\n",
       "      <td>100</td>\n",
       "      <td>1086.90780</td>\n",
       "      <td>7297.0</td>\n",
       "      <td>Albanie</td>\n",
       "      <td>2991651.0</td>\n",
       "    </tr>\n",
       "    <tr>\n",
       "      <th>4</th>\n",
       "      <td>ALB</td>\n",
       "      <td>2008</td>\n",
       "      <td>5</td>\n",
       "      <td>100</td>\n",
       "      <td>1132.69970</td>\n",
       "      <td>7297.0</td>\n",
       "      <td>Albanie</td>\n",
       "      <td>2991651.0</td>\n",
       "    </tr>\n",
       "  </tbody>\n",
       "</table>\n",
       "</div>"
      ],
      "text/plain": [
       "  country  year  quantile  nb_quantiles      income  gdpppp country_full  \\\n",
       "0     ALB  2008         1           100   728.89795  7297.0      Albanie   \n",
       "1     ALB  2008         2           100   916.66235  7297.0      Albanie   \n",
       "2     ALB  2008         3           100  1010.91600  7297.0      Albanie   \n",
       "3     ALB  2008         4           100  1086.90780  7297.0      Albanie   \n",
       "4     ALB  2008         5           100  1132.69970  7297.0      Albanie   \n",
       "\n",
       "   population  \n",
       "0   2991651.0  \n",
       "1   2991651.0  \n",
       "2   2991651.0  \n",
       "3   2991651.0  \n",
       "4   2991651.0  "
      ]
     },
     "metadata": {},
     "output_type": "display_data"
    }
   ],
   "source": [
    "main_df = main_df.merge(iso_df, how='left', on='country').copy()\n",
    "main_df = main_df.merge(pop_df, how='left', on=['country_full', 'year'])\n",
    "display(main_df.head())"
   ]
  },
  {
   "cell_type": "markdown",
   "metadata": {},
   "source": [
    "## Clean data\n",
    "\n",
    "#### Country with no population"
   ]
  },
  {
   "cell_type": "code",
   "execution_count": 12,
   "metadata": {},
   "outputs": [
    {
     "data": {
      "text/plain": [
       "array(['XKX'], dtype=object)"
      ]
     },
     "execution_count": 12,
     "metadata": {},
     "output_type": "execute_result"
    }
   ],
   "source": [
    "main_df[main_df.population.isna()].country.unique()"
   ]
  },
  {
   "cell_type": "code",
   "execution_count": 13,
   "metadata": {},
   "outputs": [],
   "source": [
    "# Remove Kosovo\n",
    "main_df = main_df[main_df.country != 'XKX'].copy()"
   ]
  },
  {
   "cell_type": "markdown",
   "metadata": {},
   "source": [
    "#### Country with no GDP"
   ]
  },
  {
   "cell_type": "code",
   "execution_count": 14,
   "metadata": {},
   "outputs": [
    {
     "data": {
      "text/plain": [
       "array(['PSE'], dtype=object)"
      ]
     },
     "execution_count": 14,
     "metadata": {},
     "output_type": "execute_result"
    }
   ],
   "source": [
    "main_df[main_df.gdpppp.isna()].country.unique()"
   ]
  },
  {
   "cell_type": "code",
   "execution_count": 15,
   "metadata": {},
   "outputs": [],
   "source": [
    "# Remove Palestine\n",
    "main_df = main_df[main_df.country != 'PSE'].copy()"
   ]
  },
  {
   "cell_type": "code",
   "execution_count": 16,
   "metadata": {},
   "outputs": [],
   "source": [
    "# Population to int\n",
    "main_df.population = main_df.population.astype(int)"
   ]
  },
  {
   "cell_type": "markdown",
   "metadata": {},
   "source": [
    "#### Clean index"
   ]
  },
  {
   "cell_type": "code",
   "execution_count": 17,
   "metadata": {},
   "outputs": [],
   "source": [
    "main_df.reset_index(drop=True, inplace=True)"
   ]
  },
  {
   "cell_type": "code",
   "execution_count": 18,
   "metadata": {},
   "outputs": [
    {
     "data": {
      "text/html": [
       "<div>\n",
       "<style scoped>\n",
       "    .dataframe tbody tr th:only-of-type {\n",
       "        vertical-align: middle;\n",
       "    }\n",
       "\n",
       "    .dataframe tbody tr th {\n",
       "        vertical-align: top;\n",
       "    }\n",
       "\n",
       "    .dataframe thead th {\n",
       "        text-align: right;\n",
       "    }\n",
       "</style>\n",
       "<table border=\"1\" class=\"dataframe\">\n",
       "  <thead>\n",
       "    <tr style=\"text-align: right;\">\n",
       "      <th></th>\n",
       "      <th>country</th>\n",
       "      <th>year</th>\n",
       "      <th>quantile</th>\n",
       "      <th>nb_quantiles</th>\n",
       "      <th>income</th>\n",
       "      <th>gdpppp</th>\n",
       "      <th>country_full</th>\n",
       "      <th>population</th>\n",
       "    </tr>\n",
       "  </thead>\n",
       "  <tbody>\n",
       "    <tr>\n",
       "      <th>0</th>\n",
       "      <td>ALB</td>\n",
       "      <td>2008</td>\n",
       "      <td>1</td>\n",
       "      <td>100</td>\n",
       "      <td>728.89795</td>\n",
       "      <td>7297.0</td>\n",
       "      <td>Albanie</td>\n",
       "      <td>2991651</td>\n",
       "    </tr>\n",
       "    <tr>\n",
       "      <th>1</th>\n",
       "      <td>ALB</td>\n",
       "      <td>2008</td>\n",
       "      <td>2</td>\n",
       "      <td>100</td>\n",
       "      <td>916.66235</td>\n",
       "      <td>7297.0</td>\n",
       "      <td>Albanie</td>\n",
       "      <td>2991651</td>\n",
       "    </tr>\n",
       "    <tr>\n",
       "      <th>2</th>\n",
       "      <td>ALB</td>\n",
       "      <td>2008</td>\n",
       "      <td>3</td>\n",
       "      <td>100</td>\n",
       "      <td>1010.91600</td>\n",
       "      <td>7297.0</td>\n",
       "      <td>Albanie</td>\n",
       "      <td>2991651</td>\n",
       "    </tr>\n",
       "    <tr>\n",
       "      <th>3</th>\n",
       "      <td>ALB</td>\n",
       "      <td>2008</td>\n",
       "      <td>4</td>\n",
       "      <td>100</td>\n",
       "      <td>1086.90780</td>\n",
       "      <td>7297.0</td>\n",
       "      <td>Albanie</td>\n",
       "      <td>2991651</td>\n",
       "    </tr>\n",
       "    <tr>\n",
       "      <th>4</th>\n",
       "      <td>ALB</td>\n",
       "      <td>2008</td>\n",
       "      <td>5</td>\n",
       "      <td>100</td>\n",
       "      <td>1132.69970</td>\n",
       "      <td>7297.0</td>\n",
       "      <td>Albanie</td>\n",
       "      <td>2991651</td>\n",
       "    </tr>\n",
       "  </tbody>\n",
       "</table>\n",
       "</div>"
      ],
      "text/plain": [
       "  country  year  quantile  nb_quantiles      income  gdpppp country_full  \\\n",
       "0     ALB  2008         1           100   728.89795  7297.0      Albanie   \n",
       "1     ALB  2008         2           100   916.66235  7297.0      Albanie   \n",
       "2     ALB  2008         3           100  1010.91600  7297.0      Albanie   \n",
       "3     ALB  2008         4           100  1086.90780  7297.0      Albanie   \n",
       "4     ALB  2008         5           100  1132.69970  7297.0      Albanie   \n",
       "\n",
       "   population  \n",
       "0     2991651  \n",
       "1     2991651  \n",
       "2     2991651  \n",
       "3     2991651  \n",
       "4     2991651  "
      ]
     },
     "execution_count": 18,
     "metadata": {},
     "output_type": "execute_result"
    }
   ],
   "source": [
    "main_df.head()"
   ]
  },
  {
   "cell_type": "markdown",
   "metadata": {},
   "source": [
    "## Dataframe to summarize countries and population\n",
    "\n",
    "---\n",
    "#### Data Population"
   ]
  },
  {
   "cell_type": "code",
   "execution_count": 19,
   "metadata": {},
   "outputs": [
    {
     "data": {
      "text/html": [
       "<div>\n",
       "<style scoped>\n",
       "    .dataframe tbody tr th:only-of-type {\n",
       "        vertical-align: middle;\n",
       "    }\n",
       "\n",
       "    .dataframe tbody tr th {\n",
       "        vertical-align: top;\n",
       "    }\n",
       "\n",
       "    .dataframe thead th {\n",
       "        text-align: right;\n",
       "    }\n",
       "</style>\n",
       "<table border=\"1\" class=\"dataframe\">\n",
       "  <thead>\n",
       "    <tr style=\"text-align: right;\">\n",
       "      <th></th>\n",
       "      <th>data_pop</th>\n",
       "    </tr>\n",
       "    <tr>\n",
       "      <th>year</th>\n",
       "      <th></th>\n",
       "    </tr>\n",
       "  </thead>\n",
       "  <tbody>\n",
       "    <tr>\n",
       "      <th>2004</th>\n",
       "      <td>17806638</td>\n",
       "    </tr>\n",
       "    <tr>\n",
       "      <th>2006</th>\n",
       "      <td>288080792</td>\n",
       "    </tr>\n",
       "    <tr>\n",
       "      <th>2007</th>\n",
       "      <td>2738504044</td>\n",
       "    </tr>\n",
       "    <tr>\n",
       "      <th>2008</th>\n",
       "      <td>2327694781</td>\n",
       "    </tr>\n",
       "    <tr>\n",
       "      <th>2009</th>\n",
       "      <td>475374061</td>\n",
       "    </tr>\n",
       "    <tr>\n",
       "      <th>2010</th>\n",
       "      <td>389144319</td>\n",
       "    </tr>\n",
       "    <tr>\n",
       "      <th>2011</th>\n",
       "      <td>14948919</td>\n",
       "    </tr>\n",
       "  </tbody>\n",
       "</table>\n",
       "</div>"
      ],
      "text/plain": [
       "        data_pop\n",
       "year            \n",
       "2004    17806638\n",
       "2006   288080792\n",
       "2007  2738504044\n",
       "2008  2327694781\n",
       "2009   475374061\n",
       "2010   389144319\n",
       "2011    14948919"
      ]
     },
     "execution_count": 19,
     "metadata": {},
     "output_type": "execute_result"
    }
   ],
   "source": [
    "data_pop = (\n",
    "    main_df[['country_full', 'year', 'population']]\n",
    "        .drop_duplicates()\n",
    "        .groupby('year')\n",
    "        .sum()\n",
    ")\n",
    "data_pop.rename(columns={'population': 'data_pop'}, inplace=True)\n",
    "\n",
    "data_pop.head(10)"
   ]
  },
  {
   "cell_type": "markdown",
   "metadata": {},
   "source": [
    "#### FAO Population"
   ]
  },
  {
   "cell_type": "code",
   "execution_count": 20,
   "metadata": {},
   "outputs": [
    {
     "data": {
      "text/html": [
       "<div>\n",
       "<style scoped>\n",
       "    .dataframe tbody tr th:only-of-type {\n",
       "        vertical-align: middle;\n",
       "    }\n",
       "\n",
       "    .dataframe tbody tr th {\n",
       "        vertical-align: top;\n",
       "    }\n",
       "\n",
       "    .dataframe thead th {\n",
       "        text-align: right;\n",
       "    }\n",
       "</style>\n",
       "<table border=\"1\" class=\"dataframe\">\n",
       "  <thead>\n",
       "    <tr style=\"text-align: right;\">\n",
       "      <th></th>\n",
       "      <th>fao_pop</th>\n",
       "    </tr>\n",
       "    <tr>\n",
       "      <th>year</th>\n",
       "      <th></th>\n",
       "    </tr>\n",
       "  </thead>\n",
       "  <tbody>\n",
       "    <tr>\n",
       "      <th>2004</th>\n",
       "      <td>7805114732</td>\n",
       "    </tr>\n",
       "    <tr>\n",
       "      <th>2005</th>\n",
       "      <td>7893696048</td>\n",
       "    </tr>\n",
       "    <tr>\n",
       "      <th>2006</th>\n",
       "      <td>7983136151</td>\n",
       "    </tr>\n",
       "    <tr>\n",
       "      <th>2007</th>\n",
       "      <td>8073454300</td>\n",
       "    </tr>\n",
       "    <tr>\n",
       "      <th>2008</th>\n",
       "      <td>8164569643</td>\n",
       "    </tr>\n",
       "    <tr>\n",
       "      <th>2009</th>\n",
       "      <td>8256334751</td>\n",
       "    </tr>\n",
       "    <tr>\n",
       "      <th>2010</th>\n",
       "      <td>8348588832</td>\n",
       "    </tr>\n",
       "    <tr>\n",
       "      <th>2011</th>\n",
       "      <td>8441082517</td>\n",
       "    </tr>\n",
       "  </tbody>\n",
       "</table>\n",
       "</div>"
      ],
      "text/plain": [
       "         fao_pop\n",
       "year            \n",
       "2004  7805114732\n",
       "2005  7893696048\n",
       "2006  7983136151\n",
       "2007  8073454300\n",
       "2008  8164569643\n",
       "2009  8256334751\n",
       "2010  8348588832\n",
       "2011  8441082517"
      ]
     },
     "execution_count": 20,
     "metadata": {},
     "output_type": "execute_result"
    }
   ],
   "source": [
    "fao_pop = pop_df.groupby('year').sum()\n",
    "fao_pop.rename(columns={'population': 'fao_pop'}, inplace=True)\n",
    "\n",
    "fao_pop.head(10)"
   ]
  },
  {
   "cell_type": "markdown",
   "metadata": {},
   "source": [
    "#### Consolidation"
   ]
  },
  {
   "cell_type": "code",
   "execution_count": 21,
   "metadata": {},
   "outputs": [
    {
     "data": {
      "text/html": [
       "<div>\n",
       "<style scoped>\n",
       "    .dataframe tbody tr th:only-of-type {\n",
       "        vertical-align: middle;\n",
       "    }\n",
       "\n",
       "    .dataframe tbody tr th {\n",
       "        vertical-align: top;\n",
       "    }\n",
       "\n",
       "    .dataframe thead th {\n",
       "        text-align: right;\n",
       "    }\n",
       "</style>\n",
       "<table border=\"1\" class=\"dataframe\">\n",
       "  <thead>\n",
       "    <tr style=\"text-align: right;\">\n",
       "      <th></th>\n",
       "      <th>fao_pop</th>\n",
       "      <th>data_pop</th>\n",
       "    </tr>\n",
       "    <tr>\n",
       "      <th>year</th>\n",
       "      <th></th>\n",
       "      <th></th>\n",
       "    </tr>\n",
       "  </thead>\n",
       "  <tbody>\n",
       "    <tr>\n",
       "      <th>2004</th>\n",
       "      <td>7805114732</td>\n",
       "      <td>17806638</td>\n",
       "    </tr>\n",
       "    <tr>\n",
       "      <th>2005</th>\n",
       "      <td>7893696048</td>\n",
       "      <td>0</td>\n",
       "    </tr>\n",
       "    <tr>\n",
       "      <th>2006</th>\n",
       "      <td>7983136151</td>\n",
       "      <td>288080792</td>\n",
       "    </tr>\n",
       "    <tr>\n",
       "      <th>2007</th>\n",
       "      <td>8073454300</td>\n",
       "      <td>2738504044</td>\n",
       "    </tr>\n",
       "    <tr>\n",
       "      <th>2008</th>\n",
       "      <td>8164569643</td>\n",
       "      <td>2327694781</td>\n",
       "    </tr>\n",
       "    <tr>\n",
       "      <th>2009</th>\n",
       "      <td>8256334751</td>\n",
       "      <td>475374061</td>\n",
       "    </tr>\n",
       "    <tr>\n",
       "      <th>2010</th>\n",
       "      <td>8348588832</td>\n",
       "      <td>389144319</td>\n",
       "    </tr>\n",
       "    <tr>\n",
       "      <th>2011</th>\n",
       "      <td>8441082517</td>\n",
       "      <td>14948919</td>\n",
       "    </tr>\n",
       "  </tbody>\n",
       "</table>\n",
       "</div>"
      ],
      "text/plain": [
       "         fao_pop    data_pop\n",
       "year                        \n",
       "2004  7805114732    17806638\n",
       "2005  7893696048           0\n",
       "2006  7983136151   288080792\n",
       "2007  8073454300  2738504044\n",
       "2008  8164569643  2327694781\n",
       "2009  8256334751   475374061\n",
       "2010  8348588832   389144319\n",
       "2011  8441082517    14948919"
      ]
     },
     "metadata": {},
     "output_type": "display_data"
    }
   ],
   "source": [
    "overview = fao_pop.copy()\n",
    "\n",
    "overview['data_pop'] = data_pop\n",
    "overview['data_pop'] = overview['data_pop'].fillna(0).astype(int)\n",
    "\n",
    "display(overview)"
   ]
  },
  {
   "cell_type": "markdown",
   "metadata": {},
   "source": [
    "#### Ratio"
   ]
  },
  {
   "cell_type": "code",
   "execution_count": 22,
   "metadata": {},
   "outputs": [],
   "source": [
    "overview['ratio_pop'] = round(overview.data_pop / overview.fao_pop, 2)"
   ]
  },
  {
   "cell_type": "markdown",
   "metadata": {},
   "source": [
    "#### Data Countries"
   ]
  },
  {
   "cell_type": "code",
   "execution_count": 23,
   "metadata": {},
   "outputs": [],
   "source": [
    "data_countries = (\n",
    "    main_df[['year', 'country_full']]\n",
    "        .drop_duplicates()\n",
    "        .groupby('year')\n",
    "        .count()\n",
    ")\n",
    "data_countries.rename(columns={'country_full': 'data_countries'}, inplace=True)"
   ]
  },
  {
   "cell_type": "markdown",
   "metadata": {},
   "source": [
    "#### FAO Countries"
   ]
  },
  {
   "cell_type": "code",
   "execution_count": 24,
   "metadata": {},
   "outputs": [
    {
     "data": {
      "text/html": [
       "<div>\n",
       "<style scoped>\n",
       "    .dataframe tbody tr th:only-of-type {\n",
       "        vertical-align: middle;\n",
       "    }\n",
       "\n",
       "    .dataframe tbody tr th {\n",
       "        vertical-align: top;\n",
       "    }\n",
       "\n",
       "    .dataframe thead th {\n",
       "        text-align: right;\n",
       "    }\n",
       "</style>\n",
       "<table border=\"1\" class=\"dataframe\">\n",
       "  <thead>\n",
       "    <tr style=\"text-align: right;\">\n",
       "      <th></th>\n",
       "      <th>fao_countries</th>\n",
       "    </tr>\n",
       "    <tr>\n",
       "      <th>year</th>\n",
       "      <th></th>\n",
       "    </tr>\n",
       "  </thead>\n",
       "  <tbody>\n",
       "    <tr>\n",
       "      <th>2004</th>\n",
       "      <td>230</td>\n",
       "    </tr>\n",
       "    <tr>\n",
       "      <th>2005</th>\n",
       "      <td>230</td>\n",
       "    </tr>\n",
       "    <tr>\n",
       "      <th>2006</th>\n",
       "      <td>231</td>\n",
       "    </tr>\n",
       "    <tr>\n",
       "      <th>2007</th>\n",
       "      <td>231</td>\n",
       "    </tr>\n",
       "    <tr>\n",
       "      <th>2008</th>\n",
       "      <td>231</td>\n",
       "    </tr>\n",
       "    <tr>\n",
       "      <th>2009</th>\n",
       "      <td>231</td>\n",
       "    </tr>\n",
       "    <tr>\n",
       "      <th>2010</th>\n",
       "      <td>231</td>\n",
       "    </tr>\n",
       "    <tr>\n",
       "      <th>2011</th>\n",
       "      <td>230</td>\n",
       "    </tr>\n",
       "  </tbody>\n",
       "</table>\n",
       "</div>"
      ],
      "text/plain": [
       "      fao_countries\n",
       "year               \n",
       "2004            230\n",
       "2005            230\n",
       "2006            231\n",
       "2007            231\n",
       "2008            231\n",
       "2009            231\n",
       "2010            231\n",
       "2011            230"
      ]
     },
     "execution_count": 24,
     "metadata": {},
     "output_type": "execute_result"
    }
   ],
   "source": [
    "fao_countries = pop_df[['year', 'country_full']].groupby('year').count()\n",
    "fao_countries.rename(columns={'country_full': 'fao_countries'}, inplace=True)\n",
    "fao_countries"
   ]
  },
  {
   "cell_type": "markdown",
   "metadata": {},
   "source": [
    "#### Consolidation"
   ]
  },
  {
   "cell_type": "code",
   "execution_count": 25,
   "metadata": {},
   "outputs": [],
   "source": [
    "overview['fao_countries'] = fao_countries\n",
    "overview['data_countries'] = data_countries\n",
    "overview['data_countries'] = overview['data_countries'].fillna(0).astype(int)"
   ]
  },
  {
   "cell_type": "markdown",
   "metadata": {},
   "source": [
    "#### Ratio"
   ]
  },
  {
   "cell_type": "code",
   "execution_count": 26,
   "metadata": {},
   "outputs": [],
   "source": [
    "overview['ratio_countries'] = round(overview['data_countries'] / overview['fao_countries'], 2)"
   ]
  },
  {
   "cell_type": "markdown",
   "metadata": {},
   "source": [
    "## Overview"
   ]
  },
  {
   "cell_type": "code",
   "execution_count": 27,
   "metadata": {},
   "outputs": [
    {
     "data": {
      "text/html": [
       "<div>\n",
       "<style scoped>\n",
       "    .dataframe tbody tr th:only-of-type {\n",
       "        vertical-align: middle;\n",
       "    }\n",
       "\n",
       "    .dataframe tbody tr th {\n",
       "        vertical-align: top;\n",
       "    }\n",
       "\n",
       "    .dataframe thead th {\n",
       "        text-align: right;\n",
       "    }\n",
       "</style>\n",
       "<table border=\"1\" class=\"dataframe\">\n",
       "  <thead>\n",
       "    <tr style=\"text-align: right;\">\n",
       "      <th></th>\n",
       "      <th>fao_pop</th>\n",
       "      <th>data_pop</th>\n",
       "      <th>ratio_pop</th>\n",
       "      <th>fao_countries</th>\n",
       "      <th>data_countries</th>\n",
       "      <th>ratio_countries</th>\n",
       "    </tr>\n",
       "    <tr>\n",
       "      <th>year</th>\n",
       "      <th></th>\n",
       "      <th></th>\n",
       "      <th></th>\n",
       "      <th></th>\n",
       "      <th></th>\n",
       "      <th></th>\n",
       "    </tr>\n",
       "  </thead>\n",
       "  <tbody>\n",
       "    <tr>\n",
       "      <th>2004</th>\n",
       "      <td>7805114732</td>\n",
       "      <td>17806638</td>\n",
       "      <td>0.00</td>\n",
       "      <td>230</td>\n",
       "      <td>1</td>\n",
       "      <td>0.00</td>\n",
       "    </tr>\n",
       "    <tr>\n",
       "      <th>2005</th>\n",
       "      <td>7893696048</td>\n",
       "      <td>0</td>\n",
       "      <td>0.00</td>\n",
       "      <td>230</td>\n",
       "      <td>0</td>\n",
       "      <td>0.00</td>\n",
       "    </tr>\n",
       "    <tr>\n",
       "      <th>2006</th>\n",
       "      <td>7983136151</td>\n",
       "      <td>288080792</td>\n",
       "      <td>0.04</td>\n",
       "      <td>231</td>\n",
       "      <td>5</td>\n",
       "      <td>0.02</td>\n",
       "    </tr>\n",
       "    <tr>\n",
       "      <th>2007</th>\n",
       "      <td>8073454300</td>\n",
       "      <td>2738504044</td>\n",
       "      <td>0.34</td>\n",
       "      <td>231</td>\n",
       "      <td>15</td>\n",
       "      <td>0.06</td>\n",
       "    </tr>\n",
       "    <tr>\n",
       "      <th>2008</th>\n",
       "      <td>8164569643</td>\n",
       "      <td>2327694781</td>\n",
       "      <td>0.29</td>\n",
       "      <td>231</td>\n",
       "      <td>75</td>\n",
       "      <td>0.32</td>\n",
       "    </tr>\n",
       "    <tr>\n",
       "      <th>2009</th>\n",
       "      <td>8256334751</td>\n",
       "      <td>475374061</td>\n",
       "      <td>0.06</td>\n",
       "      <td>231</td>\n",
       "      <td>11</td>\n",
       "      <td>0.05</td>\n",
       "    </tr>\n",
       "    <tr>\n",
       "      <th>2010</th>\n",
       "      <td>8348588832</td>\n",
       "      <td>389144319</td>\n",
       "      <td>0.05</td>\n",
       "      <td>231</td>\n",
       "      <td>6</td>\n",
       "      <td>0.03</td>\n",
       "    </tr>\n",
       "    <tr>\n",
       "      <th>2011</th>\n",
       "      <td>8441082517</td>\n",
       "      <td>14948919</td>\n",
       "      <td>0.00</td>\n",
       "      <td>230</td>\n",
       "      <td>1</td>\n",
       "      <td>0.00</td>\n",
       "    </tr>\n",
       "  </tbody>\n",
       "</table>\n",
       "</div>"
      ],
      "text/plain": [
       "         fao_pop    data_pop  ratio_pop  fao_countries  data_countries  \\\n",
       "year                                                                     \n",
       "2004  7805114732    17806638       0.00            230               1   \n",
       "2005  7893696048           0       0.00            230               0   \n",
       "2006  7983136151   288080792       0.04            231               5   \n",
       "2007  8073454300  2738504044       0.34            231              15   \n",
       "2008  8164569643  2327694781       0.29            231              75   \n",
       "2009  8256334751   475374061       0.06            231              11   \n",
       "2010  8348588832   389144319       0.05            231               6   \n",
       "2011  8441082517    14948919       0.00            230               1   \n",
       "\n",
       "      ratio_countries  \n",
       "year                   \n",
       "2004             0.00  \n",
       "2005             0.00  \n",
       "2006             0.02  \n",
       "2007             0.06  \n",
       "2008             0.32  \n",
       "2009             0.05  \n",
       "2010             0.03  \n",
       "2011             0.00  "
      ]
     },
     "execution_count": 27,
     "metadata": {},
     "output_type": "execute_result"
    }
   ],
   "source": [
    "overview"
   ]
  },
  {
   "cell_type": "markdown",
   "metadata": {},
   "source": [
    "#### Figures"
   ]
  },
  {
   "cell_type": "code",
   "execution_count": 28,
   "metadata": {},
   "outputs": [
    {
     "name": "stdout",
     "output_type": "stream",
     "text": [
      "Length: 11,399 (98.28%)\n",
      "Countries: 114 (49.35%)\n",
      "Population: 6,251,553,554 (74.06%)\n"
     ]
    }
   ],
   "source": [
    "data_countries = overview.data_countries.sum()\n",
    "fao_countries = overview.fao_countries.max()\n",
    "data_pop = overview.data_pop.sum()\n",
    "fao_pop = overview.fao_pop.max()\n",
    "\n",
    "print(f\"Length: {len(main_df):,} ({len(main_df) / len(the_csv):.2%})\")\n",
    "print(f\"Countries: {overview.data_countries.sum()} ({data_countries / fao_countries:.2%})\")\n",
    "print(f\"Population: {overview.data_pop.sum():,} ({data_pop / fao_pop:.2%})\")"
   ]
  },
  {
   "cell_type": "markdown",
   "metadata": {},
   "source": [
    "#### Population by years"
   ]
  },
  {
   "cell_type": "code",
   "execution_count": 29,
   "metadata": {},
   "outputs": [
    {
     "data": {
      "image/png": "[encoded data removed]",
      "text/plain": [
       "<matplotlib.figure.Figure at 0x101ec2a90>"
      ]
     },
     "metadata": {},
     "output_type": "display_data"
    }
   ],
   "source": [
    "fig, ax = plt.subplots()\n",
    "plt.bar(overview.index, overview['data_pop'], zorder=2)\n",
    "MyPlot.border(ax)\n",
    "MyPlot.bg(ax)\n",
    "plt.show()"
   ]
  },
  {
   "cell_type": "markdown",
   "metadata": {},
   "source": [
    "## Compute and merge Gini Index"
   ]
  },
  {
   "cell_type": "code",
   "execution_count": 30,
   "metadata": {},
   "outputs": [
    {
     "data": {
      "text/html": [
       "<div>\n",
       "<style scoped>\n",
       "    .dataframe tbody tr th:only-of-type {\n",
       "        vertical-align: middle;\n",
       "    }\n",
       "\n",
       "    .dataframe tbody tr th {\n",
       "        vertical-align: top;\n",
       "    }\n",
       "\n",
       "    .dataframe thead th {\n",
       "        text-align: right;\n",
       "    }\n",
       "</style>\n",
       "<table border=\"1\" class=\"dataframe\">\n",
       "  <thead>\n",
       "    <tr style=\"text-align: right;\">\n",
       "      <th></th>\n",
       "      <th>country</th>\n",
       "      <th>year</th>\n",
       "      <th>quantile</th>\n",
       "      <th>nb_quantiles</th>\n",
       "      <th>income</th>\n",
       "      <th>gdpppp</th>\n",
       "      <th>country_full</th>\n",
       "      <th>population</th>\n",
       "      <th>gini</th>\n",
       "    </tr>\n",
       "  </thead>\n",
       "  <tbody>\n",
       "    <tr>\n",
       "      <th>0</th>\n",
       "      <td>ALB</td>\n",
       "      <td>2008</td>\n",
       "      <td>1</td>\n",
       "      <td>100</td>\n",
       "      <td>728.89795</td>\n",
       "      <td>7297.0</td>\n",
       "      <td>Albanie</td>\n",
       "      <td>2991651</td>\n",
       "      <td>0.32141</td>\n",
       "    </tr>\n",
       "    <tr>\n",
       "      <th>1</th>\n",
       "      <td>ALB</td>\n",
       "      <td>2008</td>\n",
       "      <td>2</td>\n",
       "      <td>100</td>\n",
       "      <td>916.66235</td>\n",
       "      <td>7297.0</td>\n",
       "      <td>Albanie</td>\n",
       "      <td>2991651</td>\n",
       "      <td>0.32141</td>\n",
       "    </tr>\n",
       "    <tr>\n",
       "      <th>2</th>\n",
       "      <td>ALB</td>\n",
       "      <td>2008</td>\n",
       "      <td>3</td>\n",
       "      <td>100</td>\n",
       "      <td>1010.91600</td>\n",
       "      <td>7297.0</td>\n",
       "      <td>Albanie</td>\n",
       "      <td>2991651</td>\n",
       "      <td>0.32141</td>\n",
       "    </tr>\n",
       "    <tr>\n",
       "      <th>3</th>\n",
       "      <td>ALB</td>\n",
       "      <td>2008</td>\n",
       "      <td>4</td>\n",
       "      <td>100</td>\n",
       "      <td>1086.90780</td>\n",
       "      <td>7297.0</td>\n",
       "      <td>Albanie</td>\n",
       "      <td>2991651</td>\n",
       "      <td>0.32141</td>\n",
       "    </tr>\n",
       "    <tr>\n",
       "      <th>4</th>\n",
       "      <td>ALB</td>\n",
       "      <td>2008</td>\n",
       "      <td>5</td>\n",
       "      <td>100</td>\n",
       "      <td>1132.69970</td>\n",
       "      <td>7297.0</td>\n",
       "      <td>Albanie</td>\n",
       "      <td>2991651</td>\n",
       "      <td>0.32141</td>\n",
       "    </tr>\n",
       "  </tbody>\n",
       "</table>\n",
       "</div>"
      ],
      "text/plain": [
       "  country  year  quantile  nb_quantiles      income  gdpppp country_full  \\\n",
       "0     ALB  2008         1           100   728.89795  7297.0      Albanie   \n",
       "1     ALB  2008         2           100   916.66235  7297.0      Albanie   \n",
       "2     ALB  2008         3           100  1010.91600  7297.0      Albanie   \n",
       "3     ALB  2008         4           100  1086.90780  7297.0      Albanie   \n",
       "4     ALB  2008         5           100  1132.69970  7297.0      Albanie   \n",
       "\n",
       "   population     gini  \n",
       "0     2991651  0.32141  \n",
       "1     2991651  0.32141  \n",
       "2     2991651  0.32141  \n",
       "3     2991651  0.32141  \n",
       "4     2991651  0.32141  "
      ]
     },
     "metadata": {},
     "output_type": "display_data"
    },
    {
     "data": {
      "image/png": "[encoded data removed]",
      "text/plain": [
       "<matplotlib.figure.Figure at 0x101eca358>"
      ]
     },
     "metadata": {},
     "output_type": "display_data"
    }
   ],
   "source": [
    "ginis = pd.DataFrame(columns=['country_full', 'gini'])\n",
    "\n",
    "for country in main_df.country_full.unique():\n",
    "    data = main_df[main_df.country_full == country][\"income\"].copy()\n",
    "    gini = Univa.gini(data)\n",
    "    \n",
    "    new_row = {\n",
    "        'country_full': country,\n",
    "        'gini': gini\n",
    "    }\n",
    "    \n",
    "    ginis = ginis.append(new_row, ignore_index=True)\n",
    "\n",
    "main_df = main_df.merge(ginis, how='left', on='country_full')\n",
    "display(main_df.head())\n",
    "\n",
    "ginis = Univa(main_df['gini'].drop_duplicates())\n",
    "ginis.distribution()"
   ]
  },
  {
   "cell_type": "markdown",
   "metadata": {},
   "source": [
    "# Conclusion\n",
    "\n",
    "- Les années utilisées par la World Income Distribution vont de 2004 à 2011, avec une forte proportion de 2007 et 2008\n",
    "\n",
    "- 114 pays sont présents dans l'étude (Environ 50% des pays recensés par la FAO)\n",
    "\n",
    "- Environ 6 milliards de personnes sont couvertes par l'étude, soit environ 75% de la population mondiale recensée par la FAO\n",
    "\n",
    "- Les quantiles utilisés par la World Income Distribution sont des percentiles, pour l'ensemble des pays\n",
    "\n",
    "- L'utilisation des percentiles est une bonne méthode, car cela permet de considérablement réduire la taille de l'échantillon, tout en préservant suffisamment d'informations pour pouvoir l'analyser.\n",
    "\n",
    "- Le dollar PPP est une unité qui permet de comparer le pouvoir d'achat entre deux pays sans distorsion due aux taux de change."
   ]
  },
  {
   "cell_type": "markdown",
   "metadata": {},
   "source": [
    "## Save data"
   ]
  },
  {
   "cell_type": "code",
   "execution_count": 31,
   "metadata": {},
   "outputs": [],
   "source": [
    "with open(\"data/main_df.pkl\", \"wb\") as f:\n",
    "    my_pickle = pickle.Pickler(f)\n",
    "    my_pickle.dump(main_df)\n",
    "    \n",
    "with open(\"data/overview.pkl\", \"wb\") as f:\n",
    "    my_pickle = pickle.Pickler(f)\n",
    "    my_pickle.dump(overview)"
   ]
  }
 ],
 "metadata": {
  "kernelspec": {
   "display_name": "Python 3",
   "language": "python",
   "name": "python3"
  },
  "language_info": {
   "codemirror_mode": {
    "name": "ipython",
    "version": 3
   },
   "file_extension": ".py",
   "mimetype": "text/x-python",
   "name": "python",
   "nbconvert_exporter": "python",
   "pygments_lexer": "ipython3",
   "version": "3.6.5"
  }
 },
 "nbformat": 4,
 "nbformat_minor": 2
}
