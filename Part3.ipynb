{
 "cells": [
  {
   "cell_type": "markdown",
   "metadata": {},
   "source": [
    "# Part 3\n",
    "\n",
    "- Import du coefficient d'élasticité\n",
    "- Génération du dataframe parent / enfant\n",
    "- Génération du dataframe contenant l'ensemble des probabilités conditionnelles\n",
    "- Génération du dataframe final : 500 individus par pays, dont la classe des parents dépend des probabilités conditionnelles obtenues\n",
    "\n",
    "\n",
    "## Import librairies"
   ]
  },
  {
   "cell_type": "code",
   "execution_count": 1,
   "metadata": {},
   "outputs": [],
   "source": [
    "import pickle\n",
    "\n",
    "import pandas as pd\n",
    "import numpy as np\n",
    "\n",
    "import matplotlib.pyplot as plt\n",
    "\n",
    "from descstats import MyPlot\n",
    "\n",
    "pd.set_option('display.max_rows', None, 'display.max_columns', None)"
   ]
  },
  {
   "cell_type": "markdown",
   "metadata": {},
   "source": [
    "Repository de mon module DescStats : https://github.com/nicodesh/DescStats"
   ]
  },
  {
   "cell_type": "markdown",
   "metadata": {},
   "source": [
    "## Import data"
   ]
  },
  {
   "cell_type": "code",
   "execution_count": 2,
   "metadata": {},
   "outputs": [],
   "source": [
    "with open(\"data/main_df.pkl\", \"rb\") as f:\n",
    "    my_unpickler = pickle.Unpickler(f)\n",
    "    main_df = my_unpickler.load()\n",
    "    \n",
    "with open(\"data/overview.pkl\", \"rb\") as f:\n",
    "    my_unpickler = pickle.Unpickler(f)\n",
    "    overview = my_unpickler.load()"
   ]
  },
  {
   "cell_type": "markdown",
   "metadata": {},
   "source": [
    "## Import and merge IGM (Intergenerational mobility) coefficient"
   ]
  },
  {
   "cell_type": "code",
   "execution_count": 3,
   "metadata": {},
   "outputs": [
    {
     "data": {
      "text/html": [
       "<div>\n",
       "<style scoped>\n",
       "    .dataframe tbody tr th:only-of-type {\n",
       "        vertical-align: middle;\n",
       "    }\n",
       "\n",
       "    .dataframe tbody tr th {\n",
       "        vertical-align: top;\n",
       "    }\n",
       "\n",
       "    .dataframe thead th {\n",
       "        text-align: right;\n",
       "    }\n",
       "</style>\n",
       "<table border=\"1\" class=\"dataframe\">\n",
       "  <thead>\n",
       "    <tr style=\"text-align: right;\">\n",
       "      <th></th>\n",
       "      <th>country</th>\n",
       "      <th>year</th>\n",
       "      <th>quantile</th>\n",
       "      <th>nb_quantiles</th>\n",
       "      <th>income</th>\n",
       "      <th>gdpppp</th>\n",
       "      <th>country_full</th>\n",
       "      <th>population</th>\n",
       "      <th>gini</th>\n",
       "      <th>income_total</th>\n",
       "      <th>income_ratio</th>\n",
       "      <th>income_avg</th>\n",
       "      <th>igm_group</th>\n",
       "      <th>igm_coeff</th>\n",
       "    </tr>\n",
       "  </thead>\n",
       "  <tbody>\n",
       "    <tr>\n",
       "      <th>0</th>\n",
       "      <td>ALB</td>\n",
       "      <td>2008</td>\n",
       "      <td>1</td>\n",
       "      <td>100</td>\n",
       "      <td>728.89795</td>\n",
       "      <td>7297.0</td>\n",
       "      <td>Albanie</td>\n",
       "      <td>2991651</td>\n",
       "      <td>0.32141</td>\n",
       "      <td>299482.9902</td>\n",
       "      <td>0.002434</td>\n",
       "      <td>2994.829902</td>\n",
       "      <td>1</td>\n",
       "      <td>0.2</td>\n",
       "    </tr>\n",
       "    <tr>\n",
       "      <th>1</th>\n",
       "      <td>ALB</td>\n",
       "      <td>2008</td>\n",
       "      <td>2</td>\n",
       "      <td>100</td>\n",
       "      <td>916.66235</td>\n",
       "      <td>7297.0</td>\n",
       "      <td>Albanie</td>\n",
       "      <td>2991651</td>\n",
       "      <td>0.32141</td>\n",
       "      <td>299482.9902</td>\n",
       "      <td>0.003061</td>\n",
       "      <td>2994.829902</td>\n",
       "      <td>1</td>\n",
       "      <td>0.2</td>\n",
       "    </tr>\n",
       "    <tr>\n",
       "      <th>2</th>\n",
       "      <td>ALB</td>\n",
       "      <td>2008</td>\n",
       "      <td>3</td>\n",
       "      <td>100</td>\n",
       "      <td>1010.91600</td>\n",
       "      <td>7297.0</td>\n",
       "      <td>Albanie</td>\n",
       "      <td>2991651</td>\n",
       "      <td>0.32141</td>\n",
       "      <td>299482.9902</td>\n",
       "      <td>0.003376</td>\n",
       "      <td>2994.829902</td>\n",
       "      <td>1</td>\n",
       "      <td>0.2</td>\n",
       "    </tr>\n",
       "    <tr>\n",
       "      <th>3</th>\n",
       "      <td>ALB</td>\n",
       "      <td>2008</td>\n",
       "      <td>4</td>\n",
       "      <td>100</td>\n",
       "      <td>1086.90780</td>\n",
       "      <td>7297.0</td>\n",
       "      <td>Albanie</td>\n",
       "      <td>2991651</td>\n",
       "      <td>0.32141</td>\n",
       "      <td>299482.9902</td>\n",
       "      <td>0.003629</td>\n",
       "      <td>2994.829902</td>\n",
       "      <td>1</td>\n",
       "      <td>0.2</td>\n",
       "    </tr>\n",
       "    <tr>\n",
       "      <th>4</th>\n",
       "      <td>ALB</td>\n",
       "      <td>2008</td>\n",
       "      <td>5</td>\n",
       "      <td>100</td>\n",
       "      <td>1132.69970</td>\n",
       "      <td>7297.0</td>\n",
       "      <td>Albanie</td>\n",
       "      <td>2991651</td>\n",
       "      <td>0.32141</td>\n",
       "      <td>299482.9902</td>\n",
       "      <td>0.003782</td>\n",
       "      <td>2994.829902</td>\n",
       "      <td>1</td>\n",
       "      <td>0.2</td>\n",
       "    </tr>\n",
       "  </tbody>\n",
       "</table>\n",
       "</div>"
      ],
      "text/plain": [
       "  country  year  quantile  nb_quantiles      income  gdpppp country_full  \\\n",
       "0     ALB  2008         1           100   728.89795  7297.0      Albanie   \n",
       "1     ALB  2008         2           100   916.66235  7297.0      Albanie   \n",
       "2     ALB  2008         3           100  1010.91600  7297.0      Albanie   \n",
       "3     ALB  2008         4           100  1086.90780  7297.0      Albanie   \n",
       "4     ALB  2008         5           100  1132.69970  7297.0      Albanie   \n",
       "\n",
       "   population     gini  income_total  income_ratio   income_avg  igm_group  \\\n",
       "0     2991651  0.32141   299482.9902      0.002434  2994.829902          1   \n",
       "1     2991651  0.32141   299482.9902      0.003061  2994.829902          1   \n",
       "2     2991651  0.32141   299482.9902      0.003376  2994.829902          1   \n",
       "3     2991651  0.32141   299482.9902      0.003629  2994.829902          1   \n",
       "4     2991651  0.32141   299482.9902      0.003782  2994.829902          1   \n",
       "\n",
       "   igm_coeff  \n",
       "0        0.2  \n",
       "1        0.2  \n",
       "2        0.2  \n",
       "3        0.2  \n",
       "4        0.2  "
      ]
     },
     "execution_count": 3,
     "metadata": {},
     "output_type": "execute_result"
    }
   ],
   "source": [
    "df = pd.read_csv(\"data/elasticity/country-group.csv\", header=None)\n",
    "\n",
    "df.rename(columns={0: 'country_full', 1:'igm_group'}, inplace=True)\n",
    "\n",
    "def group_to_igm(group):\n",
    "    \"\"\" Return an IGM value depending on the country group. \"\"\"\n",
    "    \n",
    "    if (group == 1):# Nordic European countries and Canada\n",
    "        return 0.2\n",
    "    \n",
    "    elif (group == 2):# Europe except nordic countries\n",
    "        return 0.4\n",
    "    \n",
    "    elif (group == 3):# Australia / New Zealand / USA\n",
    "        return 0.4\n",
    "        \n",
    "    elif (group == 4):# Asia\n",
    "        return 0.5\n",
    "    \n",
    "    elif (group == 5):# Latin America / Africa\n",
    "        return 0.66\n",
    "    \n",
    "df['igm_coeff'] = df['igm_group'].apply(group_to_igm)\n",
    "\n",
    "main_df = main_df.merge(df, how='left', on='country_full')\n",
    "\n",
    "main_df.head()"
   ]
  },
  {
   "cell_type": "markdown",
   "metadata": {},
   "source": [
    "## Generate parent / child units"
   ]
  },
  {
   "cell_type": "code",
   "execution_count": 81,
   "metadata": {},
   "outputs": [
    {
     "data": {
      "text/plain": [
       "(11400000, 7)"
      ]
     },
     "metadata": {},
     "output_type": "display_data"
    },
    {
     "data": {
      "text/html": [
       "<div>\n",
       "<style scoped>\n",
       "    .dataframe tbody tr th:only-of-type {\n",
       "        vertical-align: middle;\n",
       "    }\n",
       "\n",
       "    .dataframe tbody tr th {\n",
       "        vertical-align: top;\n",
       "    }\n",
       "\n",
       "    .dataframe thead th {\n",
       "        text-align: right;\n",
       "    }\n",
       "</style>\n",
       "<table border=\"1\" class=\"dataframe\">\n",
       "  <thead>\n",
       "    <tr style=\"text-align: right;\">\n",
       "      <th></th>\n",
       "      <th>country</th>\n",
       "      <th>ln_yparent</th>\n",
       "      <th>epsilone</th>\n",
       "      <th>pj</th>\n",
       "      <th>ychild</th>\n",
       "      <th>cparent</th>\n",
       "      <th>cchild</th>\n",
       "    </tr>\n",
       "  </thead>\n",
       "  <tbody>\n",
       "    <tr>\n",
       "      <th>0</th>\n",
       "      <td>ALB</td>\n",
       "      <td>0.208198</td>\n",
       "      <td>0.054132</td>\n",
       "      <td>0.2</td>\n",
       "      <td>1.100507</td>\n",
       "      <td>59</td>\n",
       "      <td>54</td>\n",
       "    </tr>\n",
       "    <tr>\n",
       "      <th>1</th>\n",
       "      <td>ALB</td>\n",
       "      <td>0.309944</td>\n",
       "      <td>1.752853</td>\n",
       "      <td>0.2</td>\n",
       "      <td>6.140107</td>\n",
       "      <td>63</td>\n",
       "      <td>97</td>\n",
       "    </tr>\n",
       "    <tr>\n",
       "      <th>2</th>\n",
       "      <td>ALB</td>\n",
       "      <td>0.257302</td>\n",
       "      <td>2.528200</td>\n",
       "      <td>0.2</td>\n",
       "      <td>13.192656</td>\n",
       "      <td>61</td>\n",
       "      <td>100</td>\n",
       "    </tr>\n",
       "    <tr>\n",
       "      <th>3</th>\n",
       "      <td>ALB</td>\n",
       "      <td>1.286175</td>\n",
       "      <td>0.035333</td>\n",
       "      <td>0.2</td>\n",
       "      <td>1.339864</td>\n",
       "      <td>91</td>\n",
       "      <td>62</td>\n",
       "    </tr>\n",
       "    <tr>\n",
       "      <th>4</th>\n",
       "      <td>ALB</td>\n",
       "      <td>0.191726</td>\n",
       "      <td>0.606841</td>\n",
       "      <td>0.2</td>\n",
       "      <td>1.906342</td>\n",
       "      <td>58</td>\n",
       "      <td>74</td>\n",
       "    </tr>\n",
       "  </tbody>\n",
       "</table>\n",
       "</div>"
      ],
      "text/plain": [
       "  country  ln_yparent  epsilone   pj     ychild cparent cchild\n",
       "0     ALB    0.208198  0.054132  0.2   1.100507      59     54\n",
       "1     ALB    0.309944  1.752853  0.2   6.140107      63     97\n",
       "2     ALB    0.257302  2.528200  0.2  13.192656      61    100\n",
       "3     ALB    1.286175  0.035333  0.2   1.339864      91     62\n",
       "4     ALB    0.191726  0.606841  0.2   1.906342      58     74"
      ]
     },
     "metadata": {},
     "output_type": "display_data"
    },
    {
     "name": "stdout",
     "output_type": "stream",
     "text": [
      "CPU times: user 7min 3s, sys: 25.6 s, total: 7min 28s\n",
      "Wall time: 7min 33s\n"
     ]
    }
   ],
   "source": [
    "%%time\n",
    "\n",
    "# Parent / Child generated dataframe\n",
    "columns=['country', 'ln_yparent', 'epsilone', 'pj', 'ychild', 'cparent', 'cchild']\n",
    "parent_child = pd.DataFrame(columns=columns)\n",
    "\n",
    "# Number of generated units\n",
    "n = 1000 * 100\n",
    "\n",
    "# Compute ychild\n",
    "def ychild(row):    \n",
    "    return np.exp(row['pj'] * row['ln_yparent'] + row['epsilone'])\n",
    "\n",
    "# Main loop\n",
    "for the_country in main_df.country.drop_duplicates():\n",
    "\n",
    "    # Get the IGM Coeff\n",
    "    the_pj = main_df[main_df.country == the_country]['igm_coeff'].iloc[0]\n",
    "\n",
    "    # Generate values\n",
    "    s1 = pd.Series(np.random.normal(size=n))\n",
    "    s1.name = \"ln_yparent\"\n",
    "    s2 = pd.Series(np.random.normal(size=n))\n",
    "    s2.name = \"epsilone\"\n",
    "    # Concatenate\n",
    "    temp_df = pd.concat([s1, s2], axis=1)\n",
    "    temp_df['pj'] = the_pj\n",
    "    temp_df['ychild'] = temp_df.apply(ychild, axis=1)\n",
    "\n",
    "    # Compute cparent\n",
    "    percentiles = np.argsort(np.argsort(temp_df['ln_yparent'])) * 100. / (len(temp_df['ln_yparent']) - 1)\n",
    "    percentiles = np.ceil(percentiles).astype(int)\n",
    "    temp_df['cparent'] = percentiles\n",
    "\n",
    "    # Compute cchild\n",
    "    percentiles = np.argsort(np.argsort(temp_df['ychild'])) * 100. / (len(temp_df['ychild']) - 1)\n",
    "    percentiles = np.ceil(percentiles).astype(int)\n",
    "    temp_df['cchild'] = percentiles\n",
    "\n",
    "    # Add the country\n",
    "    temp_df['country'] = the_country\n",
    "\n",
    "    # Append to the main df\n",
    "    parent_child = parent_child.append(temp_df, sort=False)\n",
    "\n",
    "# Display the result\n",
    "display(parent_child.shape)\n",
    "display(parent_child.head())"
   ]
  },
  {
   "cell_type": "markdown",
   "metadata": {},
   "source": [
    "## Save the dataframe"
   ]
  },
  {
   "cell_type": "code",
   "execution_count": null,
   "metadata": {},
   "outputs": [],
   "source": [
    "with open(\"data/generated-units.pkl\", \"wb\") as f:\n",
    "    my_pickle = pickle.Pickler(f)\n",
    "    my_pickle.dump(parent_child)"
   ]
  },
  {
   "cell_type": "markdown",
   "metadata": {},
   "source": [
    "## Load the dataframe"
   ]
  },
  {
   "cell_type": "code",
   "execution_count": 4,
   "metadata": {},
   "outputs": [],
   "source": [
    "with open(\"data/generated-units.pkl\", \"rb\") as f:\n",
    "    my_pickle = pickle.Unpickler(f)\n",
    "    parent_child = my_pickle.load()"
   ]
  },
  {
   "cell_type": "markdown",
   "metadata": {},
   "source": [
    "## Generate conditionnal probabilities dataframe"
   ]
  },
  {
   "cell_type": "code",
   "execution_count": 84,
   "metadata": {},
   "outputs": [
    {
     "data": {
      "text/plain": [
       "(1140000, 4)"
      ]
     },
     "metadata": {},
     "output_type": "display_data"
    },
    {
     "data": {
      "text/html": [
       "<div>\n",
       "<style scoped>\n",
       "    .dataframe tbody tr th:only-of-type {\n",
       "        vertical-align: middle;\n",
       "    }\n",
       "\n",
       "    .dataframe tbody tr th {\n",
       "        vertical-align: top;\n",
       "    }\n",
       "\n",
       "    .dataframe thead th {\n",
       "        text-align: right;\n",
       "    }\n",
       "</style>\n",
       "<table border=\"1\" class=\"dataframe\">\n",
       "  <thead>\n",
       "    <tr style=\"text-align: right;\">\n",
       "      <th></th>\n",
       "      <th>country</th>\n",
       "      <th>c_child</th>\n",
       "      <th>c_parent</th>\n",
       "      <th>prob</th>\n",
       "    </tr>\n",
       "  </thead>\n",
       "  <tbody>\n",
       "    <tr>\n",
       "      <th>0</th>\n",
       "      <td>ALB</td>\n",
       "      <td>1</td>\n",
       "      <td>1</td>\n",
       "      <td>0.035035</td>\n",
       "    </tr>\n",
       "    <tr>\n",
       "      <th>1</th>\n",
       "      <td>ALB</td>\n",
       "      <td>1</td>\n",
       "      <td>2</td>\n",
       "      <td>0.027027</td>\n",
       "    </tr>\n",
       "    <tr>\n",
       "      <th>2</th>\n",
       "      <td>ALB</td>\n",
       "      <td>1</td>\n",
       "      <td>3</td>\n",
       "      <td>0.025025</td>\n",
       "    </tr>\n",
       "    <tr>\n",
       "      <th>3</th>\n",
       "      <td>ALB</td>\n",
       "      <td>1</td>\n",
       "      <td>4</td>\n",
       "      <td>0.018018</td>\n",
       "    </tr>\n",
       "    <tr>\n",
       "      <th>4</th>\n",
       "      <td>ALB</td>\n",
       "      <td>1</td>\n",
       "      <td>5</td>\n",
       "      <td>0.020020</td>\n",
       "    </tr>\n",
       "  </tbody>\n",
       "</table>\n",
       "</div>"
      ],
      "text/plain": [
       "  country  c_child  c_parent      prob\n",
       "0     ALB        1         1  0.035035\n",
       "1     ALB        1         2  0.027027\n",
       "2     ALB        1         3  0.025025\n",
       "3     ALB        1         4  0.018018\n",
       "4     ALB        1         5  0.020020"
      ]
     },
     "metadata": {},
     "output_type": "display_data"
    },
    {
     "name": "stdout",
     "output_type": "stream",
     "text": [
      "CPU times: user 14min 37s, sys: 13.2 s, total: 14min 50s\n",
      "Wall time: 15min 35s\n"
     ]
    }
   ],
   "source": [
    "%%time\n",
    "\n",
    "df_prob = {\n",
    "    'country':[],\n",
    "    'c_child':[],\n",
    "    'c_parent':[],\n",
    "    'prob':[]\n",
    "}\n",
    "\n",
    "for the_country in main_df['country'].drop_duplicates():\n",
    "    \n",
    "    data = parent_child[parent_child.country == the_country]\n",
    "    len_total = len(data)\n",
    "\n",
    "    for c_child in range(1,101):\n",
    "        \n",
    "        # Probabilité d'avoir cette classe d'enfant\n",
    "        this_child = data[data['cchild'] == c_child]\n",
    "        child_prob = len(this_child) / len_total\n",
    "\n",
    "        for c_parent in range(1,101):\n",
    "            \n",
    "            # Probabilité d'avoir cette classe d'enfant ET cette classe de parent\n",
    "            this_prob = len(this_child[this_child['cparent'] == c_parent]) / len_total\n",
    "\n",
    "            # Probabilité d'avoir cette classe de parent sachant la classe de l'enfant\n",
    "            cond_prob = this_prob / child_prob    \n",
    "\n",
    "            # On rajoute la probabilité conditionnelle dans le dataframe\n",
    "            df_prob['country'].append(the_country)\n",
    "            df_prob['c_child'].append(c_child)\n",
    "            df_prob['c_parent'].append(c_parent)\n",
    "            df_prob['prob'].append(cond_prob)\n",
    "            \n",
    "df_prob = pd.DataFrame(df_prob)\n",
    "\n",
    "display(df_prob.shape)\n",
    "display(df_prob.head())"
   ]
  },
  {
   "cell_type": "markdown",
   "metadata": {},
   "source": [
    "## Save conditionnal probabilites"
   ]
  },
  {
   "cell_type": "code",
   "execution_count": null,
   "metadata": {},
   "outputs": [],
   "source": [
    "with open(\"data/cond-prob.pkl\", \"wb\") as f:\n",
    "    my_pickle = pickle.Pickler(f)\n",
    "    my_pickle.dump(df_prob)"
   ]
  },
  {
   "cell_type": "markdown",
   "metadata": {},
   "source": [
    "## Load conditionnal probabilites"
   ]
  },
  {
   "cell_type": "code",
   "execution_count": 5,
   "metadata": {},
   "outputs": [],
   "source": [
    "with open(\"data/cond-prob.pkl\", \"rb\") as f:\n",
    "    my_pickle = pickle.Unpickler(f)\n",
    "    df_prob = my_pickle.load()"
   ]
  },
  {
   "cell_type": "markdown",
   "metadata": {},
   "source": [
    "## Plot conditionnal probabilities for France"
   ]
  },
  {
   "cell_type": "code",
   "execution_count": 6,
   "metadata": {},
   "outputs": [
    {
     "data": {
      "image/png": "[encoded data removed]",
      "text/plain": [
       "<matplotlib.figure.Figure at 0x111e32cf8>"
      ]
     },
     "metadata": {},
     "output_type": "display_data"
    }
   ],
   "source": [
    "fig, ax = plt.subplots(figsize=(15,10))\n",
    "bottom = pd.Series(np.zeros(100))\n",
    "df_fra = df_prob[df_prob.country == 'FRA']\n",
    "\n",
    "for i in range(1,101):\n",
    "    data = df_fra[df_fra.c_parent == i].sort_values(by='c_child')\n",
    "    plt.bar(data['c_child'], data['prob'], bottom=bottom, zorder=2,label=i)\n",
    "    bottom = bottom + data['prob'].reset_index(drop=True)\n",
    "    \n",
    "MyPlot.bg(ax)\n",
    "MyPlot.border(ax)\n",
    "plt.show()"
   ]
  },
  {
   "cell_type": "markdown",
   "metadata": {},
   "source": [
    "## Create the final dataframe"
   ]
  },
  {
   "cell_type": "code",
   "execution_count": 51,
   "metadata": {},
   "outputs": [
    {
     "data": {
      "text/plain": [
       "(5664544, 8)"
      ]
     },
     "metadata": {},
     "output_type": "display_data"
    },
    {
     "data": {
      "text/html": [
       "<div>\n",
       "<style scoped>\n",
       "    .dataframe tbody tr th:only-of-type {\n",
       "        vertical-align: middle;\n",
       "    }\n",
       "\n",
       "    .dataframe tbody tr th {\n",
       "        vertical-align: top;\n",
       "    }\n",
       "\n",
       "    .dataframe thead th {\n",
       "        text-align: right;\n",
       "    }\n",
       "</style>\n",
       "<table border=\"1\" class=\"dataframe\">\n",
       "  <thead>\n",
       "    <tr style=\"text-align: right;\">\n",
       "      <th></th>\n",
       "      <th>country</th>\n",
       "      <th>country_full</th>\n",
       "      <th>quantile</th>\n",
       "      <th>c_parent</th>\n",
       "      <th>population</th>\n",
       "      <th>gini</th>\n",
       "      <th>income_avg</th>\n",
       "      <th>income</th>\n",
       "    </tr>\n",
       "  </thead>\n",
       "  <tbody>\n",
       "    <tr>\n",
       "      <th>0</th>\n",
       "      <td>ALB</td>\n",
       "      <td>Albanie</td>\n",
       "      <td>1</td>\n",
       "      <td>1</td>\n",
       "      <td>2991651</td>\n",
       "      <td>0.32141</td>\n",
       "      <td>2994.829902</td>\n",
       "      <td>728.89795</td>\n",
       "    </tr>\n",
       "    <tr>\n",
       "      <th>1</th>\n",
       "      <td>ALB</td>\n",
       "      <td>Albanie</td>\n",
       "      <td>1</td>\n",
       "      <td>1</td>\n",
       "      <td>2991651</td>\n",
       "      <td>0.32141</td>\n",
       "      <td>2994.829902</td>\n",
       "      <td>728.89795</td>\n",
       "    </tr>\n",
       "    <tr>\n",
       "      <th>2</th>\n",
       "      <td>ALB</td>\n",
       "      <td>Albanie</td>\n",
       "      <td>1</td>\n",
       "      <td>1</td>\n",
       "      <td>2991651</td>\n",
       "      <td>0.32141</td>\n",
       "      <td>2994.829902</td>\n",
       "      <td>728.89795</td>\n",
       "    </tr>\n",
       "    <tr>\n",
       "      <th>3</th>\n",
       "      <td>ALB</td>\n",
       "      <td>Albanie</td>\n",
       "      <td>1</td>\n",
       "      <td>1</td>\n",
       "      <td>2991651</td>\n",
       "      <td>0.32141</td>\n",
       "      <td>2994.829902</td>\n",
       "      <td>728.89795</td>\n",
       "    </tr>\n",
       "    <tr>\n",
       "      <th>4</th>\n",
       "      <td>ALB</td>\n",
       "      <td>Albanie</td>\n",
       "      <td>1</td>\n",
       "      <td>1</td>\n",
       "      <td>2991651</td>\n",
       "      <td>0.32141</td>\n",
       "      <td>2994.829902</td>\n",
       "      <td>728.89795</td>\n",
       "    </tr>\n",
       "  </tbody>\n",
       "</table>\n",
       "</div>"
      ],
      "text/plain": [
       "  country country_full  quantile  c_parent  population     gini   income_avg  \\\n",
       "0     ALB      Albanie         1         1     2991651  0.32141  2994.829902   \n",
       "1     ALB      Albanie         1         1     2991651  0.32141  2994.829902   \n",
       "2     ALB      Albanie         1         1     2991651  0.32141  2994.829902   \n",
       "3     ALB      Albanie         1         1     2991651  0.32141  2994.829902   \n",
       "4     ALB      Albanie         1         1     2991651  0.32141  2994.829902   \n",
       "\n",
       "      income  \n",
       "0  728.89795  \n",
       "1  728.89795  \n",
       "2  728.89795  \n",
       "3  728.89795  \n",
       "4  728.89795  "
      ]
     },
     "metadata": {},
     "output_type": "display_data"
    },
    {
     "name": "stdout",
     "output_type": "stream",
     "text": [
      "CPU times: user 25min 39s, sys: 5.17 s, total: 25min 45s\n",
      "Wall time: 25min 59s\n"
     ]
    }
   ],
   "source": [
    "%%time\n",
    "\n",
    "final_df = {\n",
    "    'country':[],\n",
    "    'country_full':[],\n",
    "    'quantile':[],\n",
    "    'c_parent':[],\n",
    "    'population':[],\n",
    "    'gini':[],\n",
    "    'income_avg':[],\n",
    "    'income':[],\n",
    "}\n",
    "\n",
    "# Row\n",
    "for i in range(0,len(main_df)):\n",
    "    row = main_df.iloc[i]\n",
    "    data = df_prob[df_prob['country'] == row['country']]\n",
    "    data = data[data['c_child'] == row['quantile']]\n",
    "    \n",
    "    # Parent\n",
    "    for j in range(1,101):\n",
    "        \n",
    "        # Number of parents\n",
    "        n = int(round(data[data['c_parent'] == j]['prob'].iloc[0] * 500))\n",
    "        \n",
    "        # Copy the values n times\n",
    "        final_df['country'].extend([row['country']]*n)\n",
    "        final_df['country_full'].extend([row['country_full']]*n)\n",
    "        final_df['quantile'].extend([row['quantile']]*n)\n",
    "        final_df['income'].extend([row['income']]*n)\n",
    "        final_df['population'].extend([row['population']]*n)\n",
    "        final_df['gini'].extend([row['gini']]*n)\n",
    "        final_df['income_avg'].extend([row['income_avg']]*n)\n",
    "        final_df['c_parent'].extend([j]*n)\n",
    "        \n",
    "final_df = pd.DataFrame(final_df)\n",
    "display(final_df.shape)\n",
    "display(final_df.head())"
   ]
  },
  {
   "cell_type": "markdown",
   "metadata": {},
   "source": [
    "## Save the final dataframe"
   ]
  },
  {
   "cell_type": "code",
   "execution_count": 83,
   "metadata": {},
   "outputs": [],
   "source": [
    "with open(\"data/final_df.pkl\", \"wb\") as f:\n",
    "    my_pickle = pickle.Pickler(f)\n",
    "    my_pickle.dump(final_df)"
   ]
  }
 ],
 "metadata": {
  "kernelspec": {
   "display_name": "Python 3",
   "language": "python",
   "name": "python3"
  },
  "language_info": {
   "codemirror_mode": {
    "name": "ipython",
    "version": 3
   },
   "file_extension": ".py",
   "mimetype": "text/x-python",
   "name": "python",
   "nbconvert_exporter": "python",
   "pygments_lexer": "ipython3",
   "version": "3.6.5"
  }
 },
 "nbformat": 4,
 "nbformat_minor": 2
}
